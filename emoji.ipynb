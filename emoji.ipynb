{
  "cells": [
    {
      "cell_type": "code",
      "execution_count": null,
      "metadata": {
        "colab": {
          "base_uri": "https://localhost:8080/"
        },
        "id": "n9UBEE9b_qvs",
        "outputId": "c7a905a0-c702-4095-8919-ae8c96d8f1fb"
      },
      "outputs": [
        {
          "output_type": "stream",
          "name": "stdout",
          "text": [
            "Collecting emoji\n",
            "  Downloading emoji-2.8.0-py2.py3-none-any.whl (358 kB)\n",
            "\u001b[?25l     \u001b[90m━━━━━━━━━━━━━━━━━━━━━━━━━━━━━━━━━━━━━━━━\u001b[0m \u001b[32m0.0/358.9 kB\u001b[0m \u001b[31m?\u001b[0m eta \u001b[36m-:--:--\u001b[0m\r\u001b[2K     \u001b[91m━━━━━━━━━━━━\u001b[0m\u001b[90m╺\u001b[0m\u001b[90m━━━━━━━━━━━━━━━━━━━━━━━━━━\u001b[0m \u001b[32m112.6/358.9 kB\u001b[0m \u001b[31m3.1 MB/s\u001b[0m eta \u001b[36m0:00:01\u001b[0m\r\u001b[2K     \u001b[90m━━━━━━━━━━━━━━━━━━━━━━━━━━━━━━━━━━━━━━━\u001b[0m \u001b[32m358.9/358.9 kB\u001b[0m \u001b[31m6.0 MB/s\u001b[0m eta \u001b[36m0:00:00\u001b[0m\n",
            "\u001b[?25hInstalling collected packages: emoji\n",
            "Successfully installed emoji-2.8.0\n"
          ]
        }
      ],
      "source": [
        "pip install emoji"
      ]
    },
    {
      "cell_type": "code",
      "execution_count": null,
      "metadata": {
        "id": "FHdCs33W_84U"
      },
      "outputs": [],
      "source": [
        "import numpy as np\n",
        "import pandas as pd\n",
        "import emoji"
      ]
    },
    {
      "cell_type": "code",
      "execution_count": null,
      "metadata": {
        "id": "c010efYBAJ94"
      },
      "outputs": [],
      "source": [
        "from keras.models import Sequential\n",
        "from keras.layers import Dense, LSTM, SimpleRNN, Embedding\n",
        "\n"
      ]
    },
    {
      "cell_type": "code",
      "execution_count": null,
      "metadata": {
        "id": "eU34k0-S2aG2"
      },
      "outputs": [],
      "source": [
        "from keras.preprocessing.text import Tokenizer\n",
        "from keras.preprocessing.sequence import pad_sequences\n",
        "from tensorflow.keras.utils import to_categorical"
      ]
    },
    {
      "cell_type": "code",
      "execution_count": null,
      "metadata": {
        "colab": {
          "base_uri": "https://localhost:8080/",
          "height": 206
        },
        "id": "mWOSU-u93xDK",
        "outputId": "c71b3e65-aefb-471a-8d4a-8892eb1834d5"
      },
      "outputs": [
        {
          "output_type": "execute_result",
          "data": {
            "text/plain": [
              "                             0   1\n",
              "0  French macaroon is so tasty   4\n",
              "1             work is horrible   3\n",
              "2                   I am upset  3 \n",
              "3               throw the ball  1 \n",
              "4                    Good joke   2"
            ],
            "text/html": [
              "\n",
              "  <div id=\"df-9676eeba-bdae-4a0c-81a9-40341a76b207\" class=\"colab-df-container\">\n",
              "    <div>\n",
              "<style scoped>\n",
              "    .dataframe tbody tr th:only-of-type {\n",
              "        vertical-align: middle;\n",
              "    }\n",
              "\n",
              "    .dataframe tbody tr th {\n",
              "        vertical-align: top;\n",
              "    }\n",
              "\n",
              "    .dataframe thead th {\n",
              "        text-align: right;\n",
              "    }\n",
              "</style>\n",
              "<table border=\"1\" class=\"dataframe\">\n",
              "  <thead>\n",
              "    <tr style=\"text-align: right;\">\n",
              "      <th></th>\n",
              "      <th>0</th>\n",
              "      <th>1</th>\n",
              "    </tr>\n",
              "  </thead>\n",
              "  <tbody>\n",
              "    <tr>\n",
              "      <th>0</th>\n",
              "      <td>French macaroon is so tasty</td>\n",
              "      <td>4</td>\n",
              "    </tr>\n",
              "    <tr>\n",
              "      <th>1</th>\n",
              "      <td>work is horrible</td>\n",
              "      <td>3</td>\n",
              "    </tr>\n",
              "    <tr>\n",
              "      <th>2</th>\n",
              "      <td>I am upset</td>\n",
              "      <td>3</td>\n",
              "    </tr>\n",
              "    <tr>\n",
              "      <th>3</th>\n",
              "      <td>throw the ball</td>\n",
              "      <td>1</td>\n",
              "    </tr>\n",
              "    <tr>\n",
              "      <th>4</th>\n",
              "      <td>Good joke</td>\n",
              "      <td>2</td>\n",
              "    </tr>\n",
              "  </tbody>\n",
              "</table>\n",
              "</div>\n",
              "    <div class=\"colab-df-buttons\">\n",
              "\n",
              "  <div class=\"colab-df-container\">\n",
              "    <button class=\"colab-df-convert\" onclick=\"convertToInteractive('df-9676eeba-bdae-4a0c-81a9-40341a76b207')\"\n",
              "            title=\"Convert this dataframe to an interactive table.\"\n",
              "            style=\"display:none;\">\n",
              "\n",
              "  <svg xmlns=\"http://www.w3.org/2000/svg\" height=\"24px\" viewBox=\"0 -960 960 960\">\n",
              "    <path d=\"M120-120v-720h720v720H120Zm60-500h600v-160H180v160Zm220 220h160v-160H400v160Zm0 220h160v-160H400v160ZM180-400h160v-160H180v160Zm440 0h160v-160H620v160ZM180-180h160v-160H180v160Zm440 0h160v-160H620v160Z\"/>\n",
              "  </svg>\n",
              "    </button>\n",
              "\n",
              "  <style>\n",
              "    .colab-df-container {\n",
              "      display:flex;\n",
              "      gap: 12px;\n",
              "    }\n",
              "\n",
              "    .colab-df-convert {\n",
              "      background-color: #E8F0FE;\n",
              "      border: none;\n",
              "      border-radius: 50%;\n",
              "      cursor: pointer;\n",
              "      display: none;\n",
              "      fill: #1967D2;\n",
              "      height: 32px;\n",
              "      padding: 0 0 0 0;\n",
              "      width: 32px;\n",
              "    }\n",
              "\n",
              "    .colab-df-convert:hover {\n",
              "      background-color: #E2EBFA;\n",
              "      box-shadow: 0px 1px 2px rgba(60, 64, 67, 0.3), 0px 1px 3px 1px rgba(60, 64, 67, 0.15);\n",
              "      fill: #174EA6;\n",
              "    }\n",
              "\n",
              "    .colab-df-buttons div {\n",
              "      margin-bottom: 4px;\n",
              "    }\n",
              "\n",
              "    [theme=dark] .colab-df-convert {\n",
              "      background-color: #3B4455;\n",
              "      fill: #D2E3FC;\n",
              "    }\n",
              "\n",
              "    [theme=dark] .colab-df-convert:hover {\n",
              "      background-color: #434B5C;\n",
              "      box-shadow: 0px 1px 3px 1px rgba(0, 0, 0, 0.15);\n",
              "      filter: drop-shadow(0px 1px 2px rgba(0, 0, 0, 0.3));\n",
              "      fill: #FFFFFF;\n",
              "    }\n",
              "  </style>\n",
              "\n",
              "    <script>\n",
              "      const buttonEl =\n",
              "        document.querySelector('#df-9676eeba-bdae-4a0c-81a9-40341a76b207 button.colab-df-convert');\n",
              "      buttonEl.style.display =\n",
              "        google.colab.kernel.accessAllowed ? 'block' : 'none';\n",
              "\n",
              "      async function convertToInteractive(key) {\n",
              "        const element = document.querySelector('#df-9676eeba-bdae-4a0c-81a9-40341a76b207');\n",
              "        const dataTable =\n",
              "          await google.colab.kernel.invokeFunction('convertToInteractive',\n",
              "                                                    [key], {});\n",
              "        if (!dataTable) return;\n",
              "\n",
              "        const docLinkHtml = 'Like what you see? Visit the ' +\n",
              "          '<a target=\"_blank\" href=https://colab.research.google.com/notebooks/data_table.ipynb>data table notebook</a>'\n",
              "          + ' to learn more about interactive tables.';\n",
              "        element.innerHTML = '';\n",
              "        dataTable['output_type'] = 'display_data';\n",
              "        await google.colab.output.renderOutput(dataTable, element);\n",
              "        const docLink = document.createElement('div');\n",
              "        docLink.innerHTML = docLinkHtml;\n",
              "        element.appendChild(docLink);\n",
              "      }\n",
              "    </script>\n",
              "  </div>\n",
              "\n",
              "\n",
              "<div id=\"df-3bf06cf1-8e59-464a-ba99-794842f574c4\">\n",
              "  <button class=\"colab-df-quickchart\" onclick=\"quickchart('df-3bf06cf1-8e59-464a-ba99-794842f574c4')\"\n",
              "            title=\"Suggest charts.\"\n",
              "            style=\"display:none;\">\n",
              "\n",
              "<svg xmlns=\"http://www.w3.org/2000/svg\" height=\"24px\"viewBox=\"0 0 24 24\"\n",
              "     width=\"24px\">\n",
              "    <g>\n",
              "        <path d=\"M19 3H5c-1.1 0-2 .9-2 2v14c0 1.1.9 2 2 2h14c1.1 0 2-.9 2-2V5c0-1.1-.9-2-2-2zM9 17H7v-7h2v7zm4 0h-2V7h2v10zm4 0h-2v-4h2v4z\"/>\n",
              "    </g>\n",
              "</svg>\n",
              "  </button>\n",
              "\n",
              "<style>\n",
              "  .colab-df-quickchart {\n",
              "      --bg-color: #E8F0FE;\n",
              "      --fill-color: #1967D2;\n",
              "      --hover-bg-color: #E2EBFA;\n",
              "      --hover-fill-color: #174EA6;\n",
              "      --disabled-fill-color: #AAA;\n",
              "      --disabled-bg-color: #DDD;\n",
              "  }\n",
              "\n",
              "  [theme=dark] .colab-df-quickchart {\n",
              "      --bg-color: #3B4455;\n",
              "      --fill-color: #D2E3FC;\n",
              "      --hover-bg-color: #434B5C;\n",
              "      --hover-fill-color: #FFFFFF;\n",
              "      --disabled-bg-color: #3B4455;\n",
              "      --disabled-fill-color: #666;\n",
              "  }\n",
              "\n",
              "  .colab-df-quickchart {\n",
              "    background-color: var(--bg-color);\n",
              "    border: none;\n",
              "    border-radius: 50%;\n",
              "    cursor: pointer;\n",
              "    display: none;\n",
              "    fill: var(--fill-color);\n",
              "    height: 32px;\n",
              "    padding: 0;\n",
              "    width: 32px;\n",
              "  }\n",
              "\n",
              "  .colab-df-quickchart:hover {\n",
              "    background-color: var(--hover-bg-color);\n",
              "    box-shadow: 0 1px 2px rgba(60, 64, 67, 0.3), 0 1px 3px 1px rgba(60, 64, 67, 0.15);\n",
              "    fill: var(--button-hover-fill-color);\n",
              "  }\n",
              "\n",
              "  .colab-df-quickchart-complete:disabled,\n",
              "  .colab-df-quickchart-complete:disabled:hover {\n",
              "    background-color: var(--disabled-bg-color);\n",
              "    fill: var(--disabled-fill-color);\n",
              "    box-shadow: none;\n",
              "  }\n",
              "\n",
              "  .colab-df-spinner {\n",
              "    border: 2px solid var(--fill-color);\n",
              "    border-color: transparent;\n",
              "    border-bottom-color: var(--fill-color);\n",
              "    animation:\n",
              "      spin 1s steps(1) infinite;\n",
              "  }\n",
              "\n",
              "  @keyframes spin {\n",
              "    0% {\n",
              "      border-color: transparent;\n",
              "      border-bottom-color: var(--fill-color);\n",
              "      border-left-color: var(--fill-color);\n",
              "    }\n",
              "    20% {\n",
              "      border-color: transparent;\n",
              "      border-left-color: var(--fill-color);\n",
              "      border-top-color: var(--fill-color);\n",
              "    }\n",
              "    30% {\n",
              "      border-color: transparent;\n",
              "      border-left-color: var(--fill-color);\n",
              "      border-top-color: var(--fill-color);\n",
              "      border-right-color: var(--fill-color);\n",
              "    }\n",
              "    40% {\n",
              "      border-color: transparent;\n",
              "      border-right-color: var(--fill-color);\n",
              "      border-top-color: var(--fill-color);\n",
              "    }\n",
              "    60% {\n",
              "      border-color: transparent;\n",
              "      border-right-color: var(--fill-color);\n",
              "    }\n",
              "    80% {\n",
              "      border-color: transparent;\n",
              "      border-right-color: var(--fill-color);\n",
              "      border-bottom-color: var(--fill-color);\n",
              "    }\n",
              "    90% {\n",
              "      border-color: transparent;\n",
              "      border-bottom-color: var(--fill-color);\n",
              "    }\n",
              "  }\n",
              "</style>\n",
              "\n",
              "  <script>\n",
              "    async function quickchart(key) {\n",
              "      const quickchartButtonEl =\n",
              "        document.querySelector('#' + key + ' button');\n",
              "      quickchartButtonEl.disabled = true;  // To prevent multiple clicks.\n",
              "      quickchartButtonEl.classList.add('colab-df-spinner');\n",
              "      try {\n",
              "        const charts = await google.colab.kernel.invokeFunction(\n",
              "            'suggestCharts', [key], {});\n",
              "      } catch (error) {\n",
              "        console.error('Error during call to suggestCharts:', error);\n",
              "      }\n",
              "      quickchartButtonEl.classList.remove('colab-df-spinner');\n",
              "      quickchartButtonEl.classList.add('colab-df-quickchart-complete');\n",
              "    }\n",
              "    (() => {\n",
              "      let quickchartButtonEl =\n",
              "        document.querySelector('#df-3bf06cf1-8e59-464a-ba99-794842f574c4 button');\n",
              "      quickchartButtonEl.style.display =\n",
              "        google.colab.kernel.accessAllowed ? 'block' : 'none';\n",
              "    })();\n",
              "  </script>\n",
              "</div>\n",
              "    </div>\n",
              "  </div>\n"
            ]
          },
          "metadata": {},
          "execution_count": 6
        }
      ],
      "source": [
        "data = pd.read_csv('/content/emoji_data.csv',header =None)\n",
        "data.head()"
      ]
    },
    {
      "cell_type": "code",
      "execution_count": null,
      "metadata": {
        "id": "m48Zu3jv7esJ"
      },
      "outputs": [],
      "source": [
        "emoji_dict = {\n",
        "    0: \":red_heart:\",\n",
        "    1: \":baseball:\",\n",
        "    2: \":grinning_face_with_big_eyes:\",\n",
        "    3: \":disappointed_face:\",\n",
        "    4: \":fork_and_knife_with_plate:\"\n",
        "}\n",
        "\n",
        "def label_to_emoji(label):\n",
        "  return emoji.emojize(emoji_dict[label])\n"
      ]
    },
    {
      "cell_type": "code",
      "execution_count": null,
      "metadata": {
        "colab": {
          "base_uri": "https://localhost:8080/"
        },
        "id": "_LDyBHTH9AHE",
        "outputId": "6bd7a457-8643-48a8-f34b-892750a4371f"
      },
      "outputs": [
        {
          "output_type": "stream",
          "name": "stdout",
          "text": [
            "['4' '3' '3 ' '1 ' '2' '1' '4' '3' '4' '1' '3' '3 ' '2' '2' '4' '3' '2'\n",
            " '3 ' '3 ' '1' '3 ' '2' '2' '2' '0' '1' '0' '4 ' '2' '1' '2' '0' '0' '3 '\n",
            " '4' '0' '2' '1' '3' '1' '0' '4' '0 ' '3' '0 ' '4' '2' '3 ' '4' '2 ' '2'\n",
            " '3' '0' '2' '2' '3 ' '2' '3' '2' '2' '3 ' '3' '0 ' '2' '3' '0' '2' '0'\n",
            " '0 ' '2' '3' '2' '4' '1' '3' '3' '0' '0' '3' '2' '0' '3' '0' '2' '2' '4'\n",
            " '2' '2' '0' '0' '2' '3' '0' '4' '2' '1' '2' '3' '3' '2' '3' '0' '3' '0'\n",
            " '2' '0' '2' '3' '4' '3' '1' '3' '4' '3' '2' '3' '3' '3' '1' '4' '4' '2'\n",
            " '2' '1' '1' '2' '3' '2' '3' '4' '2' '3' '0' '2' '0' '0' '4' '3' '4' '2'\n",
            " '3' '2' '3' '4' '2' '1' '2' '4' '3' '1' '3' '2' '3' '2' '2' '3' '3' '2'\n",
            " '4' '0' '0' '0' '3' '0' '0' '1' '1' '2' '2' '2' '0' '3' '2' '3' '3' '1'\n",
            " '2' '2' '4' '2' '3' '1' '2']\n"
          ]
        }
      ],
      "source": [
        "X= data[0].values\n",
        "Y= data[1].values\n",
        "Y[29]='1'\n",
        "print(Y)"
      ]
    },
    {
      "cell_type": "markdown",
      "metadata": {
        "id": "bIRMmR929Vwe"
      },
      "source": [
        "Embeddings"
      ]
    },
    {
      "cell_type": "code",
      "execution_count": null,
      "metadata": {
        "colab": {
          "base_uri": "https://localhost:8080/"
        },
        "id": "Qz88Vltm9Zct",
        "outputId": "c0b2b570-2f7b-45b5-ebb6-4f5a91a16684"
      },
      "outputs": [
        {
          "output_type": "stream",
          "name": "stdout",
          "text": [
            "--2023-10-09 04:50:02--  http://nlp.stanford.edu/data/glove.6B.zip\n",
            "Resolving nlp.stanford.edu (nlp.stanford.edu)... 171.64.67.140\n",
            "Connecting to nlp.stanford.edu (nlp.stanford.edu)|171.64.67.140|:80... connected.\n",
            "HTTP request sent, awaiting response... 302 Found\n",
            "Location: https://nlp.stanford.edu/data/glove.6B.zip [following]\n",
            "--2023-10-09 04:50:02--  https://nlp.stanford.edu/data/glove.6B.zip\n",
            "Connecting to nlp.stanford.edu (nlp.stanford.edu)|171.64.67.140|:443... connected.\n",
            "HTTP request sent, awaiting response... 301 Moved Permanently\n",
            "Location: https://downloads.cs.stanford.edu/nlp/data/glove.6B.zip [following]\n",
            "--2023-10-09 04:50:02--  https://downloads.cs.stanford.edu/nlp/data/glove.6B.zip\n",
            "Resolving downloads.cs.stanford.edu (downloads.cs.stanford.edu)... 171.64.64.22\n",
            "Connecting to downloads.cs.stanford.edu (downloads.cs.stanford.edu)|171.64.64.22|:443... connected.\n",
            "HTTP request sent, awaiting response... 200 OK\n",
            "Length: 862182613 (822M) [application/zip]\n",
            "Saving to: ‘glove.6B.zip’\n",
            "\n",
            "glove.6B.zip        100%[===================>] 822.24M  5.01MB/s    in 2m 39s  \n",
            "\n",
            "2023-10-09 04:52:42 (5.16 MB/s) - ‘glove.6B.zip’ saved [862182613/862182613]\n",
            "\n",
            "Archive:  glove.6B.zip\n",
            "  inflating: glove.6B.50d.txt        \n",
            "  inflating: glove.6B.100d.txt       \n",
            "  inflating: glove.6B.200d.txt       \n",
            "  inflating: glove.6B.300d.txt       \n"
          ]
        }
      ],
      "source": [
        "!wget http://nlp.stanford.edu/data/glove.6B.zip\n",
        "!unzip glove*.zip"
      ]
    },
    {
      "cell_type": "code",
      "execution_count": null,
      "metadata": {
        "id": "6hd1UzrOAYg8"
      },
      "outputs": [],
      "source": [
        "file = open('glove.6B.100d.txt', 'r', encoding = 'utf8')\n",
        "content = file.readlines()\n",
        "file.close()\n"
      ]
    },
    {
      "cell_type": "code",
      "execution_count": null,
      "metadata": {
        "id": "wXM8ri_eAntt"
      },
      "outputs": [],
      "source": [
        "embeddings = {}\n",
        "\n",
        "for line in content:\n",
        "    line = line.split()\n",
        "    embeddings[line[0]] = np.array(line[1:], dtype = float)"
      ]
    },
    {
      "cell_type": "code",
      "execution_count": null,
      "metadata": {
        "id": "XjJqdM9eJuWT"
      },
      "outputs": [],
      "source": [
        "tokenizer = Tokenizer()\n",
        "tokenizer.fit_on_texts(X)\n",
        "word2index = tokenizer.word_index"
      ]
    },
    {
      "cell_type": "code",
      "execution_count": null,
      "metadata": {
        "id": "kOgS9P2bJvu2",
        "colab": {
          "base_uri": "https://localhost:8080/"
        },
        "outputId": "f2723a88-e89e-4cf7-c5bc-b5d28f905adc"
      },
      "outputs": [
        {
          "output_type": "stream",
          "name": "stdout",
          "text": [
            "10\n"
          ]
        }
      ],
      "source": [
        "Xtokens = tokenizer.texts_to_sequences(X)\n",
        "\n",
        "def get_maxlen(data):\n",
        "    maxlen = 0\n",
        "    for sent in data:\n",
        "        maxlen = max(maxlen, len(sent))\n",
        "    return maxlen\n",
        "\n",
        "maxlen = get_maxlen(Xtokens)\n",
        "print(maxlen)\n",
        "Xtrain = pad_sequences(Xtokens, maxlen = maxlen,  padding = 'post', truncating = 'post')\n",
        "\n"
      ]
    },
    {
      "cell_type": "code",
      "execution_count": null,
      "metadata": {
        "id": "dE9wR_f4NuZT"
      },
      "outputs": [],
      "source": [
        "Ytrain = to_categorical(Y)"
      ]
    },
    {
      "cell_type": "markdown",
      "source": [
        "Model"
      ],
      "metadata": {
        "id": "Hxu6pJB833Gc"
      }
    },
    {
      "cell_type": "code",
      "source": [
        "embed_size = 100\n",
        "embedding_matrix = np.zeros((len(word2index)+1, embed_size))\n",
        "\n",
        "for word, i in word2index.items():\n",
        "    embed_vector = embeddings[word]\n",
        "    embedding_matrix[i] = embed_vector"
      ],
      "metadata": {
        "id": "IeKxQuDx30-k"
      },
      "execution_count": null,
      "outputs": []
    },
    {
      "cell_type": "code",
      "source": [
        "embedding_matrix"
      ],
      "metadata": {
        "colab": {
          "base_uri": "https://localhost:8080/"
        },
        "id": "itlZPdSk4Idy",
        "outputId": "0ca82c87-2e88-4860-a100-88e1b71873e5"
      },
      "execution_count": null,
      "outputs": [
        {
          "output_type": "execute_result",
          "data": {
            "text/plain": [
              "array([[ 0.      ,  0.      ,  0.      , ...,  0.      ,  0.      ,\n",
              "         0.      ],\n",
              "       [-0.046539,  0.61966 ,  0.56647 , ..., -0.37616 , -0.032502,\n",
              "         0.8062  ],\n",
              "       [-0.49886 ,  0.76602 ,  0.89751 , ..., -0.41179 ,  0.40539 ,\n",
              "         0.78504 ],\n",
              "       ...,\n",
              "       [-0.46263 ,  0.069864,  0.69095 , ..., -0.29174 ,  0.32041 ,\n",
              "         0.21202 ],\n",
              "       [ 0.073242,  0.11134 ,  0.62281 , ...,  0.53417 , -0.1646  ,\n",
              "        -0.27516 ],\n",
              "       [ 0.29019 ,  0.80497 ,  0.31187 , ..., -0.33603 ,  0.45998 ,\n",
              "        -0.11278 ]])"
            ]
          },
          "metadata": {},
          "execution_count": 19
        }
      ]
    },
    {
      "cell_type": "code",
      "source": [
        "model = Sequential([\n",
        "    Embedding(input_dim = len(word2index) + 1,\n",
        "              output_dim = embed_size,\n",
        "              input_length = maxlen,\n",
        "              weights = [embedding_matrix],\n",
        "              trainable = False\n",
        "             ),\n",
        "\n",
        "    LSTM(units = 16, return_sequences = True),\n",
        "    LSTM(units = 4),\n",
        "    Dense(5, activation = 'softmax')\n",
        "])\n",
        "\n",
        "model.compile(optimizer = 'adam', loss = 'categorical_crossentropy', metrics = ['accuracy'])"
      ],
      "metadata": {
        "id": "gmamRAJZ4Pla"
      },
      "execution_count": null,
      "outputs": []
    },
    {
      "cell_type": "code",
      "source": [
        "model.fit(Xtrain, Ytrain, epochs = 100)"
      ],
      "metadata": {
        "colab": {
          "base_uri": "https://localhost:8080/"
        },
        "id": "YRn572H54hYj",
        "outputId": "03779046-1d35-4081-d889-295860d045ef"
      },
      "execution_count": null,
      "outputs": [
        {
          "output_type": "stream",
          "name": "stdout",
          "text": [
            "Epoch 1/100\n",
            "6/6 [==============================] - 6s 14ms/step - loss: 1.6016 - accuracy: 0.2240\n",
            "Epoch 2/100\n",
            "6/6 [==============================] - 0s 12ms/step - loss: 1.5785 - accuracy: 0.2896\n",
            "Epoch 3/100\n",
            "6/6 [==============================] - 0s 13ms/step - loss: 1.5576 - accuracy: 0.3279\n",
            "Epoch 4/100\n",
            "6/6 [==============================] - 0s 13ms/step - loss: 1.5441 - accuracy: 0.3497\n",
            "Epoch 5/100\n",
            "6/6 [==============================] - 0s 15ms/step - loss: 1.5285 - accuracy: 0.3388\n",
            "Epoch 6/100\n",
            "6/6 [==============================] - 0s 15ms/step - loss: 1.5141 - accuracy: 0.3607\n",
            "Epoch 7/100\n",
            "6/6 [==============================] - 0s 14ms/step - loss: 1.4985 - accuracy: 0.3770\n",
            "Epoch 8/100\n",
            "6/6 [==============================] - 0s 13ms/step - loss: 1.4781 - accuracy: 0.3716\n",
            "Epoch 9/100\n",
            "6/6 [==============================] - 0s 13ms/step - loss: 1.4545 - accuracy: 0.3825\n",
            "Epoch 10/100\n",
            "6/6 [==============================] - 0s 14ms/step - loss: 1.4275 - accuracy: 0.3770\n",
            "Epoch 11/100\n",
            "6/6 [==============================] - 0s 13ms/step - loss: 1.4001 - accuracy: 0.4044\n",
            "Epoch 12/100\n",
            "6/6 [==============================] - 0s 14ms/step - loss: 1.3703 - accuracy: 0.4262\n",
            "Epoch 13/100\n",
            "6/6 [==============================] - 0s 14ms/step - loss: 1.3392 - accuracy: 0.4536\n",
            "Epoch 14/100\n",
            "6/6 [==============================] - 0s 15ms/step - loss: 1.3084 - accuracy: 0.4754\n",
            "Epoch 15/100\n",
            "6/6 [==============================] - 0s 13ms/step - loss: 1.2813 - accuracy: 0.4973\n",
            "Epoch 16/100\n",
            "6/6 [==============================] - 0s 14ms/step - loss: 1.2465 - accuracy: 0.5246\n",
            "Epoch 17/100\n",
            "6/6 [==============================] - 0s 13ms/step - loss: 1.2124 - accuracy: 0.5355\n",
            "Epoch 18/100\n",
            "6/6 [==============================] - 0s 15ms/step - loss: 1.1819 - accuracy: 0.5738\n",
            "Epoch 19/100\n",
            "6/6 [==============================] - 0s 13ms/step - loss: 1.1507 - accuracy: 0.6120\n",
            "Epoch 20/100\n",
            "6/6 [==============================] - 0s 13ms/step - loss: 1.1187 - accuracy: 0.6284\n",
            "Epoch 21/100\n",
            "6/6 [==============================] - 0s 13ms/step - loss: 1.0934 - accuracy: 0.6284\n",
            "Epoch 22/100\n",
            "6/6 [==============================] - 0s 14ms/step - loss: 1.0635 - accuracy: 0.6776\n",
            "Epoch 23/100\n",
            "6/6 [==============================] - 0s 13ms/step - loss: 1.0345 - accuracy: 0.6831\n",
            "Epoch 24/100\n",
            "6/6 [==============================] - 0s 15ms/step - loss: 0.9993 - accuracy: 0.6940\n",
            "Epoch 25/100\n",
            "6/6 [==============================] - 0s 13ms/step - loss: 0.9729 - accuracy: 0.7213\n",
            "Epoch 26/100\n",
            "6/6 [==============================] - 0s 13ms/step - loss: 0.9548 - accuracy: 0.7213\n",
            "Epoch 27/100\n",
            "6/6 [==============================] - 0s 15ms/step - loss: 0.9280 - accuracy: 0.7377\n",
            "Epoch 28/100\n",
            "6/6 [==============================] - 0s 15ms/step - loss: 0.9038 - accuracy: 0.7650\n",
            "Epoch 29/100\n",
            "6/6 [==============================] - 0s 13ms/step - loss: 0.8810 - accuracy: 0.7814\n",
            "Epoch 30/100\n",
            "6/6 [==============================] - 0s 15ms/step - loss: 0.8665 - accuracy: 0.7760\n",
            "Epoch 31/100\n",
            "6/6 [==============================] - 0s 14ms/step - loss: 0.8446 - accuracy: 0.7814\n",
            "Epoch 32/100\n",
            "6/6 [==============================] - 0s 15ms/step - loss: 0.8286 - accuracy: 0.7814\n",
            "Epoch 33/100\n",
            "6/6 [==============================] - 0s 13ms/step - loss: 0.8123 - accuracy: 0.7814\n",
            "Epoch 34/100\n",
            "6/6 [==============================] - 0s 13ms/step - loss: 0.7915 - accuracy: 0.7814\n",
            "Epoch 35/100\n",
            "6/6 [==============================] - 0s 14ms/step - loss: 0.7685 - accuracy: 0.7923\n",
            "Epoch 36/100\n",
            "6/6 [==============================] - 0s 14ms/step - loss: 0.7579 - accuracy: 0.7923\n",
            "Epoch 37/100\n",
            "6/6 [==============================] - 0s 14ms/step - loss: 0.7432 - accuracy: 0.7978\n",
            "Epoch 38/100\n",
            "6/6 [==============================] - 0s 14ms/step - loss: 0.7252 - accuracy: 0.8087\n",
            "Epoch 39/100\n",
            "6/6 [==============================] - 0s 16ms/step - loss: 0.7086 - accuracy: 0.8087\n",
            "Epoch 40/100\n",
            "6/6 [==============================] - 0s 13ms/step - loss: 0.6977 - accuracy: 0.8087\n",
            "Epoch 41/100\n",
            "6/6 [==============================] - 0s 14ms/step - loss: 0.6795 - accuracy: 0.8033\n",
            "Epoch 42/100\n",
            "6/6 [==============================] - 0s 13ms/step - loss: 0.6683 - accuracy: 0.8087\n",
            "Epoch 43/100\n",
            "6/6 [==============================] - 0s 12ms/step - loss: 0.6520 - accuracy: 0.8142\n",
            "Epoch 44/100\n",
            "6/6 [==============================] - 0s 13ms/step - loss: 0.6326 - accuracy: 0.8306\n",
            "Epoch 45/100\n",
            "6/6 [==============================] - 0s 13ms/step - loss: 0.6218 - accuracy: 0.8306\n",
            "Epoch 46/100\n",
            "6/6 [==============================] - 0s 14ms/step - loss: 0.6163 - accuracy: 0.8197\n",
            "Epoch 47/100\n",
            "6/6 [==============================] - 0s 14ms/step - loss: 0.6031 - accuracy: 0.8251\n",
            "Epoch 48/100\n",
            "6/6 [==============================] - 0s 14ms/step - loss: 0.5960 - accuracy: 0.8251\n",
            "Epoch 49/100\n",
            "6/6 [==============================] - 0s 13ms/step - loss: 0.5771 - accuracy: 0.8197\n",
            "Epoch 50/100\n",
            "6/6 [==============================] - 0s 13ms/step - loss: 0.5530 - accuracy: 0.8415\n",
            "Epoch 51/100\n",
            "6/6 [==============================] - 0s 16ms/step - loss: 0.5419 - accuracy: 0.8634\n",
            "Epoch 52/100\n",
            "6/6 [==============================] - 0s 13ms/step - loss: 0.5294 - accuracy: 0.8525\n",
            "Epoch 53/100\n",
            "6/6 [==============================] - 0s 12ms/step - loss: 0.5123 - accuracy: 0.8689\n",
            "Epoch 54/100\n",
            "6/6 [==============================] - 0s 14ms/step - loss: 0.4972 - accuracy: 0.9126\n",
            "Epoch 55/100\n",
            "6/6 [==============================] - 0s 13ms/step - loss: 0.4814 - accuracy: 0.9235\n",
            "Epoch 56/100\n",
            "6/6 [==============================] - 0s 14ms/step - loss: 0.4684 - accuracy: 0.9344\n",
            "Epoch 57/100\n",
            "6/6 [==============================] - 0s 13ms/step - loss: 0.4571 - accuracy: 0.9399\n",
            "Epoch 58/100\n",
            "6/6 [==============================] - 0s 12ms/step - loss: 0.4447 - accuracy: 0.9672\n",
            "Epoch 59/100\n",
            "6/6 [==============================] - 0s 13ms/step - loss: 0.4353 - accuracy: 0.9563\n",
            "Epoch 60/100\n",
            "6/6 [==============================] - 0s 15ms/step - loss: 0.4264 - accuracy: 0.9727\n",
            "Epoch 61/100\n",
            "6/6 [==============================] - 0s 12ms/step - loss: 0.4161 - accuracy: 0.9727\n",
            "Epoch 62/100\n",
            "6/6 [==============================] - 0s 14ms/step - loss: 0.4083 - accuracy: 0.9727\n",
            "Epoch 63/100\n",
            "6/6 [==============================] - 0s 14ms/step - loss: 0.3995 - accuracy: 0.9727\n",
            "Epoch 64/100\n",
            "6/6 [==============================] - 0s 13ms/step - loss: 0.3902 - accuracy: 0.9727\n",
            "Epoch 65/100\n",
            "6/6 [==============================] - 0s 14ms/step - loss: 0.3800 - accuracy: 0.9781\n",
            "Epoch 66/100\n",
            "6/6 [==============================] - 0s 14ms/step - loss: 0.3723 - accuracy: 0.9836\n",
            "Epoch 67/100\n",
            "6/6 [==============================] - 0s 13ms/step - loss: 0.3649 - accuracy: 0.9836\n",
            "Epoch 68/100\n",
            "6/6 [==============================] - 0s 13ms/step - loss: 0.3576 - accuracy: 0.9836\n",
            "Epoch 69/100\n",
            "6/6 [==============================] - 0s 16ms/step - loss: 0.3499 - accuracy: 0.9836\n",
            "Epoch 70/100\n",
            "6/6 [==============================] - 0s 13ms/step - loss: 0.3439 - accuracy: 0.9836\n",
            "Epoch 71/100\n",
            "6/6 [==============================] - 0s 14ms/step - loss: 0.3376 - accuracy: 0.9836\n",
            "Epoch 72/100\n",
            "6/6 [==============================] - 0s 14ms/step - loss: 0.3316 - accuracy: 0.9836\n",
            "Epoch 73/100\n",
            "6/6 [==============================] - 0s 13ms/step - loss: 0.3257 - accuracy: 0.9836\n",
            "Epoch 74/100\n",
            "6/6 [==============================] - 0s 15ms/step - loss: 0.3211 - accuracy: 0.9836\n",
            "Epoch 75/100\n",
            "6/6 [==============================] - 0s 12ms/step - loss: 0.3154 - accuracy: 0.9836\n",
            "Epoch 76/100\n",
            "6/6 [==============================] - 0s 14ms/step - loss: 0.3109 - accuracy: 0.9836\n",
            "Epoch 77/100\n",
            "6/6 [==============================] - 0s 13ms/step - loss: 0.3058 - accuracy: 0.9836\n",
            "Epoch 78/100\n",
            "6/6 [==============================] - 0s 12ms/step - loss: 0.3009 - accuracy: 0.9836\n",
            "Epoch 79/100\n",
            "6/6 [==============================] - 0s 13ms/step - loss: 0.2968 - accuracy: 0.9836\n",
            "Epoch 80/100\n",
            "6/6 [==============================] - 0s 13ms/step - loss: 0.2919 - accuracy: 0.9836\n",
            "Epoch 81/100\n",
            "6/6 [==============================] - 0s 13ms/step - loss: 0.2876 - accuracy: 0.9836\n",
            "Epoch 82/100\n",
            "6/6 [==============================] - 0s 13ms/step - loss: 0.2835 - accuracy: 0.9836\n",
            "Epoch 83/100\n",
            "6/6 [==============================] - 0s 13ms/step - loss: 0.2793 - accuracy: 0.9836\n",
            "Epoch 84/100\n",
            "6/6 [==============================] - 0s 18ms/step - loss: 0.2751 - accuracy: 0.9836\n",
            "Epoch 85/100\n",
            "6/6 [==============================] - 0s 19ms/step - loss: 0.2712 - accuracy: 0.9836\n",
            "Epoch 86/100\n",
            "6/6 [==============================] - 0s 19ms/step - loss: 0.2673 - accuracy: 0.9836\n",
            "Epoch 87/100\n",
            "6/6 [==============================] - 0s 18ms/step - loss: 0.2637 - accuracy: 0.9836\n",
            "Epoch 88/100\n",
            "6/6 [==============================] - 0s 20ms/step - loss: 0.2599 - accuracy: 0.9836\n",
            "Epoch 89/100\n",
            "6/6 [==============================] - 0s 18ms/step - loss: 0.2567 - accuracy: 0.9836\n",
            "Epoch 90/100\n",
            "6/6 [==============================] - 0s 17ms/step - loss: 0.2534 - accuracy: 0.9836\n",
            "Epoch 91/100\n",
            "6/6 [==============================] - 0s 18ms/step - loss: 0.2506 - accuracy: 0.9836\n",
            "Epoch 92/100\n",
            "6/6 [==============================] - 0s 18ms/step - loss: 0.2473 - accuracy: 0.9836\n",
            "Epoch 93/100\n",
            "6/6 [==============================] - 0s 18ms/step - loss: 0.2445 - accuracy: 0.9836\n",
            "Epoch 94/100\n",
            "6/6 [==============================] - 0s 20ms/step - loss: 0.2416 - accuracy: 0.9836\n",
            "Epoch 95/100\n",
            "6/6 [==============================] - 0s 18ms/step - loss: 0.2380 - accuracy: 0.9836\n",
            "Epoch 96/100\n",
            "6/6 [==============================] - 0s 18ms/step - loss: 0.2299 - accuracy: 0.9891\n",
            "Epoch 97/100\n",
            "6/6 [==============================] - 0s 19ms/step - loss: 0.2269 - accuracy: 0.9891\n",
            "Epoch 98/100\n",
            "6/6 [==============================] - 0s 19ms/step - loss: 0.2539 - accuracy: 0.9781\n",
            "Epoch 99/100\n",
            "6/6 [==============================] - 0s 17ms/step - loss: 0.3525 - accuracy: 0.9290\n",
            "Epoch 100/100\n",
            "6/6 [==============================] - 0s 18ms/step - loss: 0.3384 - accuracy: 0.9399\n"
          ]
        },
        {
          "output_type": "execute_result",
          "data": {
            "text/plain": [
              "<keras.src.callbacks.History at 0x7b97a5eca3b0>"
            ]
          },
          "metadata": {},
          "execution_count": 21
        }
      ]
    },
    {
      "cell_type": "code",
      "source": [
        "test = [\"I feel good\", \"I feel very bad\", \"lets eat dinner\"]\n",
        "\n",
        "test_seq = tokenizer.texts_to_sequences(test)\n",
        "Xtest = pad_sequences(test_seq, maxlen = maxlen, padding = 'post', truncating = 'post')\n",
        "\n",
        "y_pred = model.predict(Xtest)\n",
        "y_pred = np.argmax(y_pred, axis = 1)\n",
        "\n",
        "for i in range(len(test)):\n",
        "    print(test[i], label_to_emoji(y_pred[i]))"
      ],
      "metadata": {
        "id": "eoj_Z4Ik4zM9",
        "outputId": "4c39030a-ae34-433a-e29a-c46c30674328",
        "colab": {
          "base_uri": "https://localhost:8080/"
        }
      },
      "execution_count": null,
      "outputs": [
        {
          "output_type": "stream",
          "name": "stdout",
          "text": [
            "1/1 [==============================] - 1s 910ms/step\n",
            "I feel good 😃\n",
            "I feel very bad 😞\n",
            "lets eat dinner 🍽️\n"
          ]
        }
      ]
    },
    {
      "cell_type": "code",
      "source": [],
      "metadata": {
        "id": "JlDwIraGUaE0"
      },
      "execution_count": null,
      "outputs": []
    }
  ],
  "metadata": {
    "colab": {
      "provenance": [],
      "authorship_tag": "ABX9TyOcb/7vBfEwF3t4oLzSm1/I"
    },
    "kernelspec": {
      "display_name": "Python 3",
      "name": "python3"
    },
    "language_info": {
      "name": "python"
    }
  },
  "nbformat": 4,
  "nbformat_minor": 0
}