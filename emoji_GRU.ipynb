{
  "nbformat": 4,
  "nbformat_minor": 0,
  "metadata": {
    "colab": {
      "provenance": [],
      "authorship_tag": "ABX9TyNujQ31ZcsZwMZ/mJP6Nh2V",
      "include_colab_link": true
    },
    "kernelspec": {
      "name": "python3",
      "display_name": "Python 3"
    },
    "language_info": {
      "name": "python"
    }
  },
  "cells": [
    {
      "cell_type": "markdown",
      "metadata": {
        "id": "view-in-github",
        "colab_type": "text"
      },
      "source": [
        "<a href=\"https://colab.research.google.com/github/Shilpa-PJ/DL-Projects/blob/main/emoji_GRU.ipynb\" target=\"_parent\"><img src=\"https://colab.research.google.com/assets/colab-badge.svg\" alt=\"Open In Colab\"/></a>"
      ]
    },
    {
      "cell_type": "code",
      "source": [
        "pip install emoji"
      ],
      "metadata": {
        "colab": {
          "base_uri": "https://localhost:8080/"
        },
        "id": "OOQwd5bMVz5Z",
        "outputId": "0c666720-c478-42ee-c17e-a41a2f20db11"
      },
      "execution_count": null,
      "outputs": [
        {
          "output_type": "stream",
          "name": "stdout",
          "text": [
            "Collecting emoji\n",
            "  Downloading emoji-2.8.0-py2.py3-none-any.whl (358 kB)\n",
            "\u001b[2K     \u001b[90m━━━━━━━━━━━━━━━━━━━━━━━━━━━━━━━━━━━━━━━\u001b[0m \u001b[32m358.9/358.9 kB\u001b[0m \u001b[31m6.0 MB/s\u001b[0m eta \u001b[36m0:00:00\u001b[0m\n",
            "\u001b[?25hInstalling collected packages: emoji\n",
            "Successfully installed emoji-2.8.0\n"
          ]
        }
      ]
    },
    {
      "cell_type": "code",
      "execution_count": null,
      "metadata": {
        "id": "V0Aee9jIVetB"
      },
      "outputs": [],
      "source": [
        "import numpy as np\n",
        "import pandas as pd\n",
        "import emoji"
      ]
    },
    {
      "cell_type": "code",
      "source": [
        "from keras.models import Sequential\n",
        "from keras.layers import Dense, GRU, SimpleRNN, Embedding\n"
      ],
      "metadata": {
        "id": "lff49yCGV84X"
      },
      "execution_count": null,
      "outputs": []
    },
    {
      "cell_type": "code",
      "source": [
        "from keras.preprocessing.text import Tokenizer\n",
        "from keras.preprocessing.sequence import pad_sequences\n",
        "from tensorflow.keras.utils import to_categorical"
      ],
      "metadata": {
        "id": "N-IezG7MV9VO"
      },
      "execution_count": null,
      "outputs": []
    },
    {
      "cell_type": "code",
      "source": [
        "data = pd.read_csv('/content/emoji_data.csv',header =None)\n",
        "data.head()"
      ],
      "metadata": {
        "colab": {
          "base_uri": "https://localhost:8080/",
          "height": 206
        },
        "id": "NF4knNkIV97N",
        "outputId": "bbc29a92-a61b-40ed-b586-a43bca5002f0"
      },
      "execution_count": null,
      "outputs": [
        {
          "output_type": "execute_result",
          "data": {
            "text/plain": [
              "                             0   1\n",
              "0  French macaroon is so tasty   4\n",
              "1             work is horrible   3\n",
              "2                   I am upset  3 \n",
              "3               throw the ball  1 \n",
              "4                    Good joke   2"
            ],
            "text/html": [
              "\n",
              "  <div id=\"df-4269fdb1-c143-498c-b4c7-0dca44119139\" class=\"colab-df-container\">\n",
              "    <div>\n",
              "<style scoped>\n",
              "    .dataframe tbody tr th:only-of-type {\n",
              "        vertical-align: middle;\n",
              "    }\n",
              "\n",
              "    .dataframe tbody tr th {\n",
              "        vertical-align: top;\n",
              "    }\n",
              "\n",
              "    .dataframe thead th {\n",
              "        text-align: right;\n",
              "    }\n",
              "</style>\n",
              "<table border=\"1\" class=\"dataframe\">\n",
              "  <thead>\n",
              "    <tr style=\"text-align: right;\">\n",
              "      <th></th>\n",
              "      <th>0</th>\n",
              "      <th>1</th>\n",
              "    </tr>\n",
              "  </thead>\n",
              "  <tbody>\n",
              "    <tr>\n",
              "      <th>0</th>\n",
              "      <td>French macaroon is so tasty</td>\n",
              "      <td>4</td>\n",
              "    </tr>\n",
              "    <tr>\n",
              "      <th>1</th>\n",
              "      <td>work is horrible</td>\n",
              "      <td>3</td>\n",
              "    </tr>\n",
              "    <tr>\n",
              "      <th>2</th>\n",
              "      <td>I am upset</td>\n",
              "      <td>3</td>\n",
              "    </tr>\n",
              "    <tr>\n",
              "      <th>3</th>\n",
              "      <td>throw the ball</td>\n",
              "      <td>1</td>\n",
              "    </tr>\n",
              "    <tr>\n",
              "      <th>4</th>\n",
              "      <td>Good joke</td>\n",
              "      <td>2</td>\n",
              "    </tr>\n",
              "  </tbody>\n",
              "</table>\n",
              "</div>\n",
              "    <div class=\"colab-df-buttons\">\n",
              "\n",
              "  <div class=\"colab-df-container\">\n",
              "    <button class=\"colab-df-convert\" onclick=\"convertToInteractive('df-4269fdb1-c143-498c-b4c7-0dca44119139')\"\n",
              "            title=\"Convert this dataframe to an interactive table.\"\n",
              "            style=\"display:none;\">\n",
              "\n",
              "  <svg xmlns=\"http://www.w3.org/2000/svg\" height=\"24px\" viewBox=\"0 -960 960 960\">\n",
              "    <path d=\"M120-120v-720h720v720H120Zm60-500h600v-160H180v160Zm220 220h160v-160H400v160Zm0 220h160v-160H400v160ZM180-400h160v-160H180v160Zm440 0h160v-160H620v160ZM180-180h160v-160H180v160Zm440 0h160v-160H620v160Z\"/>\n",
              "  </svg>\n",
              "    </button>\n",
              "\n",
              "  <style>\n",
              "    .colab-df-container {\n",
              "      display:flex;\n",
              "      gap: 12px;\n",
              "    }\n",
              "\n",
              "    .colab-df-convert {\n",
              "      background-color: #E8F0FE;\n",
              "      border: none;\n",
              "      border-radius: 50%;\n",
              "      cursor: pointer;\n",
              "      display: none;\n",
              "      fill: #1967D2;\n",
              "      height: 32px;\n",
              "      padding: 0 0 0 0;\n",
              "      width: 32px;\n",
              "    }\n",
              "\n",
              "    .colab-df-convert:hover {\n",
              "      background-color: #E2EBFA;\n",
              "      box-shadow: 0px 1px 2px rgba(60, 64, 67, 0.3), 0px 1px 3px 1px rgba(60, 64, 67, 0.15);\n",
              "      fill: #174EA6;\n",
              "    }\n",
              "\n",
              "    .colab-df-buttons div {\n",
              "      margin-bottom: 4px;\n",
              "    }\n",
              "\n",
              "    [theme=dark] .colab-df-convert {\n",
              "      background-color: #3B4455;\n",
              "      fill: #D2E3FC;\n",
              "    }\n",
              "\n",
              "    [theme=dark] .colab-df-convert:hover {\n",
              "      background-color: #434B5C;\n",
              "      box-shadow: 0px 1px 3px 1px rgba(0, 0, 0, 0.15);\n",
              "      filter: drop-shadow(0px 1px 2px rgba(0, 0, 0, 0.3));\n",
              "      fill: #FFFFFF;\n",
              "    }\n",
              "  </style>\n",
              "\n",
              "    <script>\n",
              "      const buttonEl =\n",
              "        document.querySelector('#df-4269fdb1-c143-498c-b4c7-0dca44119139 button.colab-df-convert');\n",
              "      buttonEl.style.display =\n",
              "        google.colab.kernel.accessAllowed ? 'block' : 'none';\n",
              "\n",
              "      async function convertToInteractive(key) {\n",
              "        const element = document.querySelector('#df-4269fdb1-c143-498c-b4c7-0dca44119139');\n",
              "        const dataTable =\n",
              "          await google.colab.kernel.invokeFunction('convertToInteractive',\n",
              "                                                    [key], {});\n",
              "        if (!dataTable) return;\n",
              "\n",
              "        const docLinkHtml = 'Like what you see? Visit the ' +\n",
              "          '<a target=\"_blank\" href=https://colab.research.google.com/notebooks/data_table.ipynb>data table notebook</a>'\n",
              "          + ' to learn more about interactive tables.';\n",
              "        element.innerHTML = '';\n",
              "        dataTable['output_type'] = 'display_data';\n",
              "        await google.colab.output.renderOutput(dataTable, element);\n",
              "        const docLink = document.createElement('div');\n",
              "        docLink.innerHTML = docLinkHtml;\n",
              "        element.appendChild(docLink);\n",
              "      }\n",
              "    </script>\n",
              "  </div>\n",
              "\n",
              "\n",
              "<div id=\"df-ada05665-ffa1-4d87-b500-8d14378ec0b7\">\n",
              "  <button class=\"colab-df-quickchart\" onclick=\"quickchart('df-ada05665-ffa1-4d87-b500-8d14378ec0b7')\"\n",
              "            title=\"Suggest charts.\"\n",
              "            style=\"display:none;\">\n",
              "\n",
              "<svg xmlns=\"http://www.w3.org/2000/svg\" height=\"24px\"viewBox=\"0 0 24 24\"\n",
              "     width=\"24px\">\n",
              "    <g>\n",
              "        <path d=\"M19 3H5c-1.1 0-2 .9-2 2v14c0 1.1.9 2 2 2h14c1.1 0 2-.9 2-2V5c0-1.1-.9-2-2-2zM9 17H7v-7h2v7zm4 0h-2V7h2v10zm4 0h-2v-4h2v4z\"/>\n",
              "    </g>\n",
              "</svg>\n",
              "  </button>\n",
              "\n",
              "<style>\n",
              "  .colab-df-quickchart {\n",
              "      --bg-color: #E8F0FE;\n",
              "      --fill-color: #1967D2;\n",
              "      --hover-bg-color: #E2EBFA;\n",
              "      --hover-fill-color: #174EA6;\n",
              "      --disabled-fill-color: #AAA;\n",
              "      --disabled-bg-color: #DDD;\n",
              "  }\n",
              "\n",
              "  [theme=dark] .colab-df-quickchart {\n",
              "      --bg-color: #3B4455;\n",
              "      --fill-color: #D2E3FC;\n",
              "      --hover-bg-color: #434B5C;\n",
              "      --hover-fill-color: #FFFFFF;\n",
              "      --disabled-bg-color: #3B4455;\n",
              "      --disabled-fill-color: #666;\n",
              "  }\n",
              "\n",
              "  .colab-df-quickchart {\n",
              "    background-color: var(--bg-color);\n",
              "    border: none;\n",
              "    border-radius: 50%;\n",
              "    cursor: pointer;\n",
              "    display: none;\n",
              "    fill: var(--fill-color);\n",
              "    height: 32px;\n",
              "    padding: 0;\n",
              "    width: 32px;\n",
              "  }\n",
              "\n",
              "  .colab-df-quickchart:hover {\n",
              "    background-color: var(--hover-bg-color);\n",
              "    box-shadow: 0 1px 2px rgba(60, 64, 67, 0.3), 0 1px 3px 1px rgba(60, 64, 67, 0.15);\n",
              "    fill: var(--button-hover-fill-color);\n",
              "  }\n",
              "\n",
              "  .colab-df-quickchart-complete:disabled,\n",
              "  .colab-df-quickchart-complete:disabled:hover {\n",
              "    background-color: var(--disabled-bg-color);\n",
              "    fill: var(--disabled-fill-color);\n",
              "    box-shadow: none;\n",
              "  }\n",
              "\n",
              "  .colab-df-spinner {\n",
              "    border: 2px solid var(--fill-color);\n",
              "    border-color: transparent;\n",
              "    border-bottom-color: var(--fill-color);\n",
              "    animation:\n",
              "      spin 1s steps(1) infinite;\n",
              "  }\n",
              "\n",
              "  @keyframes spin {\n",
              "    0% {\n",
              "      border-color: transparent;\n",
              "      border-bottom-color: var(--fill-color);\n",
              "      border-left-color: var(--fill-color);\n",
              "    }\n",
              "    20% {\n",
              "      border-color: transparent;\n",
              "      border-left-color: var(--fill-color);\n",
              "      border-top-color: var(--fill-color);\n",
              "    }\n",
              "    30% {\n",
              "      border-color: transparent;\n",
              "      border-left-color: var(--fill-color);\n",
              "      border-top-color: var(--fill-color);\n",
              "      border-right-color: var(--fill-color);\n",
              "    }\n",
              "    40% {\n",
              "      border-color: transparent;\n",
              "      border-right-color: var(--fill-color);\n",
              "      border-top-color: var(--fill-color);\n",
              "    }\n",
              "    60% {\n",
              "      border-color: transparent;\n",
              "      border-right-color: var(--fill-color);\n",
              "    }\n",
              "    80% {\n",
              "      border-color: transparent;\n",
              "      border-right-color: var(--fill-color);\n",
              "      border-bottom-color: var(--fill-color);\n",
              "    }\n",
              "    90% {\n",
              "      border-color: transparent;\n",
              "      border-bottom-color: var(--fill-color);\n",
              "    }\n",
              "  }\n",
              "</style>\n",
              "\n",
              "  <script>\n",
              "    async function quickchart(key) {\n",
              "      const quickchartButtonEl =\n",
              "        document.querySelector('#' + key + ' button');\n",
              "      quickchartButtonEl.disabled = true;  // To prevent multiple clicks.\n",
              "      quickchartButtonEl.classList.add('colab-df-spinner');\n",
              "      try {\n",
              "        const charts = await google.colab.kernel.invokeFunction(\n",
              "            'suggestCharts', [key], {});\n",
              "      } catch (error) {\n",
              "        console.error('Error during call to suggestCharts:', error);\n",
              "      }\n",
              "      quickchartButtonEl.classList.remove('colab-df-spinner');\n",
              "      quickchartButtonEl.classList.add('colab-df-quickchart-complete');\n",
              "    }\n",
              "    (() => {\n",
              "      let quickchartButtonEl =\n",
              "        document.querySelector('#df-ada05665-ffa1-4d87-b500-8d14378ec0b7 button');\n",
              "      quickchartButtonEl.style.display =\n",
              "        google.colab.kernel.accessAllowed ? 'block' : 'none';\n",
              "    })();\n",
              "  </script>\n",
              "</div>\n",
              "    </div>\n",
              "  </div>\n"
            ]
          },
          "metadata": {},
          "execution_count": 6
        }
      ]
    },
    {
      "cell_type": "code",
      "source": [
        "emoji_dict = {\n",
        "    0: \":red_heart:\",\n",
        "    1: \":baseball:\",\n",
        "    2: \":grinning_face_with_big_eyes:\",\n",
        "    3: \":disappointed_face:\",\n",
        "    4: \":fork_and_knife_with_plate:\"\n",
        "}\n",
        "\n",
        "def label_to_emoji(label):\n",
        "  return emoji.emojize(emoji_dict[label])"
      ],
      "metadata": {
        "id": "Wk-7mpXsWZqm"
      },
      "execution_count": null,
      "outputs": []
    },
    {
      "cell_type": "code",
      "source": [
        "X= data[0].values\n",
        "Y= data[1].values\n",
        "Y[29]='1'\n",
        "print(Y)"
      ],
      "metadata": {
        "colab": {
          "base_uri": "https://localhost:8080/"
        },
        "id": "Y2ELeGWvWiLd",
        "outputId": "f03ba95b-534f-4b9e-d2f0-f4086579bd3b"
      },
      "execution_count": null,
      "outputs": [
        {
          "output_type": "stream",
          "name": "stdout",
          "text": [
            "['4' '3' '3 ' '1 ' '2' '1' '4' '3' '4' '1' '3' '3 ' '2' '2' '4' '3' '2'\n",
            " '3 ' '3 ' '1' '3 ' '2' '2' '2' '0' '1' '0' '4 ' '2' '1' '2' '0' '0' '3 '\n",
            " '4' '0' '2' '1' '3' '1' '0' '4' '0 ' '3' '0 ' '4' '2' '3 ' '4' '2 ' '2'\n",
            " '3' '0' '2' '2' '3 ' '2' '3' '2' '2' '3 ' '3' '0 ' '2' '3' '0' '2' '0'\n",
            " '0 ' '2' '3' '2' '4' '1' '3' '3' '0' '0' '3' '2' '0' '3' '0' '2' '2' '4'\n",
            " '2' '2' '0' '0' '2' '3' '0' '4' '2' '1' '2' '3' '3' '2' '3' '0' '3' '0'\n",
            " '2' '0' '2' '3' '4' '3' '1' '3' '4' '3' '2' '3' '3' '3' '1' '4' '4' '2'\n",
            " '2' '1' '1' '2' '3' '2' '3' '4' '2' '3' '0' '2' '0' '0' '4' '3' '4' '2'\n",
            " '3' '2' '3' '4' '2' '1' '2' '4' '3' '1' '3' '2' '3' '2' '2' '3' '3' '2'\n",
            " '4' '0' '0' '0' '3' '0' '0' '1' '1' '2' '2' '2' '0' '3' '2' '3' '3' '1'\n",
            " '2' '2' '4' '2' '3' '1' '2']\n"
          ]
        }
      ]
    },
    {
      "cell_type": "code",
      "source": [
        "!wget http://nlp.stanford.edu/data/glove.6B.zip\n",
        "!unzip glove*.zip"
      ],
      "metadata": {
        "colab": {
          "base_uri": "https://localhost:8080/"
        },
        "id": "W0F_7AakWtE-",
        "outputId": "63b80946-fd41-4527-b4bb-eafb69231dfb"
      },
      "execution_count": null,
      "outputs": [
        {
          "output_type": "stream",
          "name": "stdout",
          "text": [
            "--2023-10-09 07:33:52--  http://nlp.stanford.edu/data/glove.6B.zip\n",
            "Resolving nlp.stanford.edu (nlp.stanford.edu)... 171.64.67.140\n",
            "Connecting to nlp.stanford.edu (nlp.stanford.edu)|171.64.67.140|:80... connected.\n",
            "HTTP request sent, awaiting response... 302 Found\n",
            "Location: https://nlp.stanford.edu/data/glove.6B.zip [following]\n",
            "--2023-10-09 07:33:52--  https://nlp.stanford.edu/data/glove.6B.zip\n",
            "Connecting to nlp.stanford.edu (nlp.stanford.edu)|171.64.67.140|:443... connected.\n",
            "HTTP request sent, awaiting response... 301 Moved Permanently\n",
            "Location: https://downloads.cs.stanford.edu/nlp/data/glove.6B.zip [following]\n",
            "--2023-10-09 07:33:52--  https://downloads.cs.stanford.edu/nlp/data/glove.6B.zip\n",
            "Resolving downloads.cs.stanford.edu (downloads.cs.stanford.edu)... 171.64.64.22\n",
            "Connecting to downloads.cs.stanford.edu (downloads.cs.stanford.edu)|171.64.64.22|:443... connected.\n",
            "HTTP request sent, awaiting response... 200 OK\n",
            "Length: 862182613 (822M) [application/zip]\n",
            "Saving to: ‘glove.6B.zip’\n",
            "\n",
            "glove.6B.zip        100%[===================>] 822.24M  5.08MB/s    in 2m 39s  \n",
            "\n",
            "2023-10-09 07:36:31 (5.18 MB/s) - ‘glove.6B.zip’ saved [862182613/862182613]\n",
            "\n",
            "Archive:  glove.6B.zip\n",
            "  inflating: glove.6B.50d.txt        \n",
            "  inflating: glove.6B.100d.txt       \n",
            "  inflating: glove.6B.200d.txt       \n",
            "  inflating: glove.6B.300d.txt       \n"
          ]
        }
      ]
    },
    {
      "cell_type": "code",
      "source": [
        "file = open('glove.6B.100d.txt', 'r', encoding = 'utf8')\n",
        "content = file.readlines()\n",
        "file.close()\n"
      ],
      "metadata": {
        "id": "izElzmD5W2ok"
      },
      "execution_count": null,
      "outputs": []
    },
    {
      "cell_type": "code",
      "source": [
        "embeddings = {}\n",
        "\n",
        "for line in content:\n",
        "    line = line.split()\n",
        "    embeddings[line[0]] = np.array(line[1:], dtype = float)"
      ],
      "metadata": {
        "id": "fGPToKeFXEzZ"
      },
      "execution_count": null,
      "outputs": []
    },
    {
      "cell_type": "code",
      "source": [
        "tokenizer = Tokenizer()\n",
        "tokenizer.fit_on_texts(X)\n",
        "word2index = tokenizer.word_index"
      ],
      "metadata": {
        "id": "uwHnieT6XGMF"
      },
      "execution_count": null,
      "outputs": []
    },
    {
      "cell_type": "code",
      "source": [
        "Xtokens = tokenizer.texts_to_sequences(X)\n",
        "\n",
        "def get_maxlen(data):\n",
        "    maxlen = 0\n",
        "    for sent in data:\n",
        "        maxlen = max(maxlen, len(sent))\n",
        "    return maxlen\n",
        "\n",
        "maxlen = get_maxlen(Xtokens)\n",
        "print(maxlen)\n",
        "Xtrain = pad_sequences(Xtokens, maxlen = maxlen,  padding = 'post', truncating = 'post')\n"
      ],
      "metadata": {
        "colab": {
          "base_uri": "https://localhost:8080/"
        },
        "id": "wMA2Ksg3XHF4",
        "outputId": "9ea71f2d-6f8b-4ad0-d1b5-819510ba3b4a"
      },
      "execution_count": null,
      "outputs": [
        {
          "output_type": "stream",
          "name": "stdout",
          "text": [
            "10\n"
          ]
        }
      ]
    },
    {
      "cell_type": "code",
      "source": [
        "Ytrain = to_categorical(Y)"
      ],
      "metadata": {
        "id": "VOb0HP8gXQxV"
      },
      "execution_count": null,
      "outputs": []
    },
    {
      "cell_type": "code",
      "source": [
        "embed_size = 100\n",
        "embedding_matrix = np.zeros((len(word2index)+1, embed_size))\n",
        "\n",
        "for word, i in word2index.items():\n",
        "    embed_vector = embeddings[word]\n",
        "    embedding_matrix[i] = embed_vector"
      ],
      "metadata": {
        "id": "I69Wjd6pXRSW"
      },
      "execution_count": null,
      "outputs": []
    },
    {
      "cell_type": "code",
      "source": [
        "embedding_matrix"
      ],
      "metadata": {
        "colab": {
          "base_uri": "https://localhost:8080/"
        },
        "id": "Lma78vo9XaPc",
        "outputId": "bf284592-c160-4466-bb4a-b98489346490"
      },
      "execution_count": null,
      "outputs": [
        {
          "output_type": "execute_result",
          "data": {
            "text/plain": [
              "array([[ 0.      ,  0.      ,  0.      , ...,  0.      ,  0.      ,\n",
              "         0.      ],\n",
              "       [-0.046539,  0.61966 ,  0.56647 , ..., -0.37616 , -0.032502,\n",
              "         0.8062  ],\n",
              "       [-0.49886 ,  0.76602 ,  0.89751 , ..., -0.41179 ,  0.40539 ,\n",
              "         0.78504 ],\n",
              "       ...,\n",
              "       [-0.46263 ,  0.069864,  0.69095 , ..., -0.29174 ,  0.32041 ,\n",
              "         0.21202 ],\n",
              "       [ 0.073242,  0.11134 ,  0.62281 , ...,  0.53417 , -0.1646  ,\n",
              "        -0.27516 ],\n",
              "       [ 0.29019 ,  0.80497 ,  0.31187 , ..., -0.33603 ,  0.45998 ,\n",
              "        -0.11278 ]])"
            ]
          },
          "metadata": {},
          "execution_count": 16
        }
      ]
    },
    {
      "cell_type": "code",
      "source": [
        "model = Sequential([\n",
        "    Embedding(input_dim = len(word2index) + 1,\n",
        "              output_dim = embed_size,\n",
        "              input_length = maxlen,\n",
        "              weights = [embedding_matrix],\n",
        "              trainable = False\n",
        "             ),\n",
        "\n",
        "    GRU(units = 16, return_sequences = True),\n",
        "    GRU(units = 4),\n",
        "    Dense(5, activation = 'softmax')\n",
        "])\n",
        "\n",
        "model.compile(optimizer = 'adam', loss = 'categorical_crossentropy', metrics = ['accuracy'])"
      ],
      "metadata": {
        "id": "mxvdwKG2Xkch"
      },
      "execution_count": null,
      "outputs": []
    },
    {
      "cell_type": "code",
      "source": [
        "model.fit(Xtrain, Ytrain, epochs = 100)"
      ],
      "metadata": {
        "colab": {
          "base_uri": "https://localhost:8080/"
        },
        "id": "LoSHqWL7Xo-F",
        "outputId": "d3f06633-bf0e-4c29-9cfc-215a9731b300"
      },
      "execution_count": null,
      "outputs": [
        {
          "output_type": "stream",
          "name": "stdout",
          "text": [
            "Epoch 1/100\n",
            "6/6 [==============================] - 5s 13ms/step - loss: 1.6087 - accuracy: 0.2514\n",
            "Epoch 2/100\n",
            "6/6 [==============================] - 0s 14ms/step - loss: 1.5922 - accuracy: 0.2350\n",
            "Epoch 3/100\n",
            "6/6 [==============================] - 0s 14ms/step - loss: 1.5790 - accuracy: 0.2951\n",
            "Epoch 4/100\n",
            "6/6 [==============================] - 0s 15ms/step - loss: 1.5667 - accuracy: 0.3279\n",
            "Epoch 5/100\n",
            "6/6 [==============================] - 0s 14ms/step - loss: 1.5521 - accuracy: 0.3825\n",
            "Epoch 6/100\n",
            "6/6 [==============================] - 0s 15ms/step - loss: 1.5372 - accuracy: 0.3989\n",
            "Epoch 7/100\n",
            "6/6 [==============================] - 0s 13ms/step - loss: 1.5203 - accuracy: 0.3989\n",
            "Epoch 8/100\n",
            "6/6 [==============================] - 0s 14ms/step - loss: 1.5011 - accuracy: 0.3989\n",
            "Epoch 9/100\n",
            "6/6 [==============================] - 0s 14ms/step - loss: 1.4785 - accuracy: 0.4262\n",
            "Epoch 10/100\n",
            "6/6 [==============================] - 0s 14ms/step - loss: 1.4533 - accuracy: 0.4317\n",
            "Epoch 11/100\n",
            "6/6 [==============================] - 0s 14ms/step - loss: 1.4222 - accuracy: 0.4536\n",
            "Epoch 12/100\n",
            "6/6 [==============================] - 0s 13ms/step - loss: 1.3911 - accuracy: 0.4590\n",
            "Epoch 13/100\n",
            "6/6 [==============================] - 0s 15ms/step - loss: 1.3487 - accuracy: 0.4918\n",
            "Epoch 14/100\n",
            "6/6 [==============================] - 0s 15ms/step - loss: 1.3097 - accuracy: 0.5191\n",
            "Epoch 15/100\n",
            "6/6 [==============================] - 0s 17ms/step - loss: 1.2644 - accuracy: 0.5301\n",
            "Epoch 16/100\n",
            "6/6 [==============================] - 0s 14ms/step - loss: 1.2131 - accuracy: 0.5410\n",
            "Epoch 17/100\n",
            "6/6 [==============================] - 0s 15ms/step - loss: 1.1682 - accuracy: 0.5628\n",
            "Epoch 18/100\n",
            "6/6 [==============================] - 0s 16ms/step - loss: 1.1111 - accuracy: 0.5956\n",
            "Epoch 19/100\n",
            "6/6 [==============================] - 0s 13ms/step - loss: 1.0608 - accuracy: 0.6066\n",
            "Epoch 20/100\n",
            "6/6 [==============================] - 0s 13ms/step - loss: 1.0042 - accuracy: 0.6339\n",
            "Epoch 21/100\n",
            "6/6 [==============================] - 0s 14ms/step - loss: 0.9514 - accuracy: 0.6503\n",
            "Epoch 22/100\n",
            "6/6 [==============================] - 0s 13ms/step - loss: 0.9140 - accuracy: 0.6721\n",
            "Epoch 23/100\n",
            "6/6 [==============================] - 0s 12ms/step - loss: 0.8777 - accuracy: 0.6721\n",
            "Epoch 24/100\n",
            "6/6 [==============================] - 0s 14ms/step - loss: 0.8423 - accuracy: 0.6831\n",
            "Epoch 25/100\n",
            "6/6 [==============================] - 0s 12ms/step - loss: 0.8149 - accuracy: 0.6885\n",
            "Epoch 26/100\n",
            "6/6 [==============================] - 0s 17ms/step - loss: 0.7843 - accuracy: 0.7213\n",
            "Epoch 27/100\n",
            "6/6 [==============================] - 0s 19ms/step - loss: 0.7588 - accuracy: 0.6940\n",
            "Epoch 28/100\n",
            "6/6 [==============================] - 0s 18ms/step - loss: 0.7225 - accuracy: 0.7377\n",
            "Epoch 29/100\n",
            "6/6 [==============================] - 0s 19ms/step - loss: 0.7094 - accuracy: 0.7377\n",
            "Epoch 30/100\n",
            "6/6 [==============================] - 0s 20ms/step - loss: 0.6833 - accuracy: 0.7541\n",
            "Epoch 31/100\n",
            "6/6 [==============================] - 0s 17ms/step - loss: 0.6741 - accuracy: 0.7432\n",
            "Epoch 32/100\n",
            "6/6 [==============================] - 0s 18ms/step - loss: 0.6561 - accuracy: 0.7814\n",
            "Epoch 33/100\n",
            "6/6 [==============================] - 0s 19ms/step - loss: 0.6371 - accuracy: 0.7869\n",
            "Epoch 34/100\n",
            "6/6 [==============================] - 0s 17ms/step - loss: 0.6315 - accuracy: 0.7923\n",
            "Epoch 35/100\n",
            "6/6 [==============================] - 0s 19ms/step - loss: 0.6266 - accuracy: 0.7596\n",
            "Epoch 36/100\n",
            "6/6 [==============================] - 0s 17ms/step - loss: 0.6037 - accuracy: 0.7869\n",
            "Epoch 37/100\n",
            "6/6 [==============================] - 0s 17ms/step - loss: 0.5870 - accuracy: 0.8087\n",
            "Epoch 38/100\n",
            "6/6 [==============================] - 0s 18ms/step - loss: 0.5710 - accuracy: 0.8251\n",
            "Epoch 39/100\n",
            "6/6 [==============================] - 0s 18ms/step - loss: 0.5584 - accuracy: 0.8306\n",
            "Epoch 40/100\n",
            "6/6 [==============================] - 0s 17ms/step - loss: 0.5488 - accuracy: 0.8415\n",
            "Epoch 41/100\n",
            "6/6 [==============================] - 0s 18ms/step - loss: 0.5404 - accuracy: 0.8361\n",
            "Epoch 42/100\n",
            "6/6 [==============================] - 0s 18ms/step - loss: 0.5279 - accuracy: 0.8470\n",
            "Epoch 43/100\n",
            "6/6 [==============================] - 0s 18ms/step - loss: 0.5145 - accuracy: 0.8689\n",
            "Epoch 44/100\n",
            "6/6 [==============================] - 0s 19ms/step - loss: 0.5028 - accuracy: 0.8689\n",
            "Epoch 45/100\n",
            "6/6 [==============================] - 0s 18ms/step - loss: 0.4919 - accuracy: 0.8743\n",
            "Epoch 46/100\n",
            "6/6 [==============================] - 0s 18ms/step - loss: 0.4811 - accuracy: 0.8907\n",
            "Epoch 47/100\n",
            "6/6 [==============================] - 0s 19ms/step - loss: 0.4709 - accuracy: 0.9126\n",
            "Epoch 48/100\n",
            "6/6 [==============================] - 0s 18ms/step - loss: 0.4611 - accuracy: 0.9071\n",
            "Epoch 49/100\n",
            "6/6 [==============================] - 0s 19ms/step - loss: 0.4521 - accuracy: 0.9126\n",
            "Epoch 50/100\n",
            "6/6 [==============================] - 0s 19ms/step - loss: 0.4452 - accuracy: 0.9235\n",
            "Epoch 51/100\n",
            "6/6 [==============================] - 0s 19ms/step - loss: 0.4352 - accuracy: 0.9235\n",
            "Epoch 52/100\n",
            "6/6 [==============================] - 0s 16ms/step - loss: 0.4266 - accuracy: 0.9454\n",
            "Epoch 53/100\n",
            "6/6 [==============================] - 0s 15ms/step - loss: 0.4162 - accuracy: 0.9563\n",
            "Epoch 54/100\n",
            "6/6 [==============================] - 0s 13ms/step - loss: 0.4081 - accuracy: 0.9563\n",
            "Epoch 55/100\n",
            "6/6 [==============================] - 0s 12ms/step - loss: 0.4010 - accuracy: 0.9563\n",
            "Epoch 56/100\n",
            "6/6 [==============================] - 0s 12ms/step - loss: 0.3926 - accuracy: 0.9617\n",
            "Epoch 57/100\n",
            "6/6 [==============================] - 0s 12ms/step - loss: 0.3855 - accuracy: 0.9563\n",
            "Epoch 58/100\n",
            "6/6 [==============================] - 0s 15ms/step - loss: 0.3793 - accuracy: 0.9617\n",
            "Epoch 59/100\n",
            "6/6 [==============================] - 0s 12ms/step - loss: 0.3710 - accuracy: 0.9617\n",
            "Epoch 60/100\n",
            "6/6 [==============================] - 0s 13ms/step - loss: 0.3652 - accuracy: 0.9672\n",
            "Epoch 61/100\n",
            "6/6 [==============================] - 0s 12ms/step - loss: 0.3575 - accuracy: 0.9563\n",
            "Epoch 62/100\n",
            "6/6 [==============================] - 0s 14ms/step - loss: 0.3528 - accuracy: 0.9563\n",
            "Epoch 63/100\n",
            "6/6 [==============================] - 0s 12ms/step - loss: 0.3455 - accuracy: 0.9727\n",
            "Epoch 64/100\n",
            "6/6 [==============================] - 0s 13ms/step - loss: 0.3385 - accuracy: 0.9672\n",
            "Epoch 65/100\n",
            "6/6 [==============================] - 0s 13ms/step - loss: 0.3304 - accuracy: 0.9672\n",
            "Epoch 66/100\n",
            "6/6 [==============================] - 0s 13ms/step - loss: 0.3243 - accuracy: 0.9781\n",
            "Epoch 67/100\n",
            "6/6 [==============================] - 0s 14ms/step - loss: 0.3181 - accuracy: 0.9836\n",
            "Epoch 68/100\n",
            "6/6 [==============================] - 0s 14ms/step - loss: 0.3122 - accuracy: 0.9836\n",
            "Epoch 69/100\n",
            "6/6 [==============================] - 0s 13ms/step - loss: 0.3081 - accuracy: 0.9781\n",
            "Epoch 70/100\n",
            "6/6 [==============================] - 0s 13ms/step - loss: 0.3030 - accuracy: 0.9891\n",
            "Epoch 71/100\n",
            "6/6 [==============================] - 0s 12ms/step - loss: 0.2986 - accuracy: 0.9945\n",
            "Epoch 72/100\n",
            "6/6 [==============================] - 0s 15ms/step - loss: 0.2943 - accuracy: 0.9891\n",
            "Epoch 73/100\n",
            "6/6 [==============================] - 0s 13ms/step - loss: 0.2887 - accuracy: 0.9945\n",
            "Epoch 74/100\n",
            "6/6 [==============================] - 0s 12ms/step - loss: 0.2872 - accuracy: 0.9945\n",
            "Epoch 75/100\n",
            "6/6 [==============================] - 0s 13ms/step - loss: 0.2820 - accuracy: 0.9945\n",
            "Epoch 76/100\n",
            "6/6 [==============================] - 0s 12ms/step - loss: 0.2771 - accuracy: 0.9945\n",
            "Epoch 77/100\n",
            "6/6 [==============================] - 0s 12ms/step - loss: 0.2714 - accuracy: 0.9945\n",
            "Epoch 78/100\n",
            "6/6 [==============================] - 0s 12ms/step - loss: 0.2670 - accuracy: 0.9945\n",
            "Epoch 79/100\n",
            "6/6 [==============================] - 0s 12ms/step - loss: 0.2632 - accuracy: 0.9945\n",
            "Epoch 80/100\n",
            "6/6 [==============================] - 0s 13ms/step - loss: 0.2592 - accuracy: 0.9945\n",
            "Epoch 81/100\n",
            "6/6 [==============================] - 0s 12ms/step - loss: 0.2564 - accuracy: 0.9945\n",
            "Epoch 82/100\n",
            "6/6 [==============================] - 0s 13ms/step - loss: 0.2527 - accuracy: 0.9945\n",
            "Epoch 83/100\n",
            "6/6 [==============================] - 0s 13ms/step - loss: 0.2494 - accuracy: 0.9945\n",
            "Epoch 84/100\n",
            "6/6 [==============================] - 0s 13ms/step - loss: 0.2456 - accuracy: 0.9945\n",
            "Epoch 85/100\n",
            "6/6 [==============================] - 0s 13ms/step - loss: 0.2426 - accuracy: 0.9945\n",
            "Epoch 86/100\n",
            "6/6 [==============================] - 0s 13ms/step - loss: 0.2390 - accuracy: 0.9945\n",
            "Epoch 87/100\n",
            "6/6 [==============================] - 0s 18ms/step - loss: 0.2360 - accuracy: 0.9945\n",
            "Epoch 88/100\n",
            "6/6 [==============================] - 0s 13ms/step - loss: 0.2326 - accuracy: 0.9945\n",
            "Epoch 89/100\n",
            "6/6 [==============================] - 0s 15ms/step - loss: 0.2296 - accuracy: 0.9945\n",
            "Epoch 90/100\n",
            "6/6 [==============================] - 0s 12ms/step - loss: 0.2260 - accuracy: 0.9945\n",
            "Epoch 91/100\n",
            "6/6 [==============================] - 0s 14ms/step - loss: 0.2221 - accuracy: 0.9945\n",
            "Epoch 92/100\n",
            "6/6 [==============================] - 0s 14ms/step - loss: 0.2175 - accuracy: 0.9945\n",
            "Epoch 93/100\n",
            "6/6 [==============================] - 0s 13ms/step - loss: 0.2124 - accuracy: 1.0000\n",
            "Epoch 94/100\n",
            "6/6 [==============================] - 0s 13ms/step - loss: 0.2095 - accuracy: 1.0000\n",
            "Epoch 95/100\n",
            "6/6 [==============================] - 0s 14ms/step - loss: 0.2060 - accuracy: 1.0000\n",
            "Epoch 96/100\n",
            "6/6 [==============================] - 0s 14ms/step - loss: 0.2029 - accuracy: 1.0000\n",
            "Epoch 97/100\n",
            "6/6 [==============================] - 0s 13ms/step - loss: 0.2001 - accuracy: 1.0000\n",
            "Epoch 98/100\n",
            "6/6 [==============================] - 0s 13ms/step - loss: 0.1975 - accuracy: 1.0000\n",
            "Epoch 99/100\n",
            "6/6 [==============================] - 0s 13ms/step - loss: 0.1950 - accuracy: 1.0000\n",
            "Epoch 100/100\n",
            "6/6 [==============================] - 0s 13ms/step - loss: 0.1924 - accuracy: 1.0000\n"
          ]
        },
        {
          "output_type": "execute_result",
          "data": {
            "text/plain": [
              "<keras.src.callbacks.History at 0x7a10f133bb20>"
            ]
          },
          "metadata": {},
          "execution_count": 18
        }
      ]
    },
    {
      "cell_type": "code",
      "source": [
        "test = [\"I feel good\", \"I feel very bad\", \"lets eat dinner\"]\n",
        "\n",
        "test_seq = tokenizer.texts_to_sequences(test)\n",
        "Xtest = pad_sequences(test_seq, maxlen = maxlen, padding = 'post', truncating = 'post')\n",
        "\n",
        "y_pred = model.predict(Xtest)\n",
        "y_pred = np.argmax(y_pred, axis = 1)\n",
        "\n",
        "for i in range(len(test)):\n",
        "    print(test[i], label_to_emoji(y_pred[i]))"
      ],
      "metadata": {
        "colab": {
          "base_uri": "https://localhost:8080/"
        },
        "id": "qSkcjFdOXqMp",
        "outputId": "dd9b0d44-bf3b-45fe-9bc6-d08903a2750c"
      },
      "execution_count": null,
      "outputs": [
        {
          "output_type": "stream",
          "name": "stdout",
          "text": [
            "1/1 [==============================] - 1s 747ms/step\n",
            "I feel good 😃\n",
            "I feel very bad 😞\n",
            "lets eat dinner 🍽️\n"
          ]
        }
      ]
    }
  ]
}